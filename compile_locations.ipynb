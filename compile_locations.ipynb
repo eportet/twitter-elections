{
 "cells": [
  {
   "cell_type": "code",
   "execution_count": 1,
   "metadata": {
    "collapsed": true
   },
   "outputs": [],
   "source": [
    "import pandas as pd\n",
    "import numpy as np\n",
    "from geopy.geocoders import Nominatim\n",
    "import warnings\n",
    "import time\n",
    "warnings.filterwarnings(\"ignore\")"
   ]
  },
  {
   "cell_type": "code",
   "execution_count": 2,
   "metadata": {
    "collapsed": true
   },
   "outputs": [],
   "source": [
    "df = pd.read_csv(\"data/scraper/hillary.csv\",sep=';')\n",
    "df = df.drop_duplicates(subset='id')\n",
    "df = df.drop(['retweets','favorites','replies','is_reply','is_retweet','url'], axis=1)\n",
    "df = df.dropna()\n",
    "\n",
    "df['user'] = df['user'].astype(str)\n",
    "df['date'] = pd.to_datetime(df['date'], format=\"%Y-%m-%d %H:%M:%S\", errors='coerce')\n",
    "df['id'] = df['id'].astype(int)\n",
    "df['text'] = df['text'].astype(str)\n",
    "df['userid'] = df['userid'].astype(int)\n",
    "\n",
    "df['loc'] = np.nan\n",
    "df['state'] = np.nan\n",
    "df['lat'] = np.nan\n",
    "df['lon'] = np.nan\n",
    "df['hashtag'] = np.nan\n",
    "\n",
    "df_location = pd.read_csv(\"data/script/hillary_users.csv\")\n",
    "df_location = df_location[df_location['loc'].notnull()]\n",
    "df_location = df_location[df_location['lat'].notnull()]"
   ]
  },
  {
   "cell_type": "code",
   "execution_count": null,
   "metadata": {
    "collapsed": true
   },
   "outputs": [],
   "source": [
    "def cleanText(s):\n",
    "    s = s.split('http')[0]\n",
    "    s = s.split('pic.twi')[0]\n",
    "    h = [tag for tag in s.split() if tag.startswith(\"#\") and len(tag) > 1]\n",
    "    r = [tag for tag in s.split() if tag.startswith(\"@\")]\n",
    "    hr = h + r\n",
    "    return ' '.join([t for t in s.split() if t not in hr]), h\n",
    "\n",
    "df[['text','hashtag']] = df['text'].apply(lambda x: cleanText(x)).apply(pd.Series)"
   ]
  },
  {
   "cell_type": "code",
   "execution_count": null,
   "metadata": {},
   "outputs": [],
   "source": [
    "df['loc'] = df['userid'].map(df_location.set_index('userid')['loc'])\n",
    "df['lat'] = df['userid'].map(df_location.set_index('userid')['lat'])\n",
    "df['lon'] = df['userid'].map(df_location.set_index('userid')['lon'])\n",
    "\n",
    "df = df[df['loc'].notnull()]\n",
    "df = df[df['lat'].notnull()]\n",
    "\n",
    "print(\"There are %i unique tweets regarding %s that contain a location in the US\" % (df.shape[0], \"Hillary\"))\n",
    "\n",
    "df.head(5)"
   ]
  },
  {
   "cell_type": "code",
   "execution_count": null,
   "metadata": {},
   "outputs": [],
   "source": [
    "import requests\n",
    "import json\n",
    "\n",
    "def getState(coordinates):\n",
    "    try:\n",
    "        lat, lon = coordinates\n",
    "        if lat == 39.7837304 and lon == -100.4458825:\n",
    "            return np.nan\n",
    "        geolocator = Nominatim(country_bias=\"United States of America\")\n",
    "        location = geolocator.reverse([lat,lon])\n",
    "        time.sleep(0.5)\n",
    "        return location.raw['address']['state']\n",
    "    except Exception as e:\n",
    "        print(e)\n",
    "\n",
    "def getStateGoogle(coordinates):\n",
    "    lat, lon, loc = coordinates\n",
    "    states = [\"AL\", \"AK\", \"AZ\", \"AR\", \"CA\", \"CO\", \"CT\", \"DC\", \"DE\", \"FL\", \"GA\", \n",
    "          \"HI\", \"ID\", \"IL\", \"IN\", \"IA\", \"KS\", \"KY\", \"LA\", \"ME\", \"MD\", \n",
    "          \"MA\", \"MI\", \"MN\", \"MS\", \"MO\", \"MT\", \"NE\", \"NV\", \"NH\", \"NJ\", \n",
    "          \"NM\", \"NY\", \"NC\", \"ND\", \"OH\", \"OK\", \"OR\", \"PA\", \"RI\", \"SC\", \n",
    "          \"SD\", \"TN\", \"TX\", \"UT\", \"VT\", \"VA\", \"WA\", \"WV\", \"WI\", \"WY\"]\n",
    "    \n",
    "    if lat == 39.7837304 and lon == -100.4458825:\n",
    "            return np.nan\n",
    "    elif len(loc.split()) == 2 and loc.split()[1] in states:\n",
    "        return loc.split()[1]\n",
    "    \n",
    "    url = \"http://maps.googleapis.com/maps/api/geocode/json?\"\n",
    "    url += \"latlng=%s,%s&sensor=false\" % (lat, lon)\n",
    "    v = requests.get(url).text\n",
    "    j = json.loads(v)\n",
    "    components = j['results'][0]['address_components']\n",
    "    for c in components:\n",
    "        if \"administrative_area_level_1\" in c['types']:\n",
    "            state = c['short_name']\n",
    "    return state\n",
    "\n",
    "for i in range(2):\n",
    "    s = i*300\n",
    "    e = (i+1)*300\n",
    "    df['state'][:1] = df[['lat','lon','loc']][:1].apply(lambda coor: getStateGoogle(coor),axis=1)\n",
    "    print(i)"
   ]
  },
  {
   "cell_type": "code",
   "execution_count": null,
   "metadata": {
    "collapsed": true
   },
   "outputs": [],
   "source": [
    "df.to_csv(\"data/script/hillary_location.csv\", index=False)"
   ]
  },
  {
   "cell_type": "code",
   "execution_count": null,
   "metadata": {},
   "outputs": [],
   "source": [
    "df"
   ]
  },
  {
   "cell_type": "code",
   "execution_count": null,
   "metadata": {
    "collapsed": true
   },
   "outputs": [],
   "source": []
  }
 ],
 "metadata": {
  "kernelspec": {
   "display_name": "Python 3",
   "language": "python",
   "name": "python3"
  },
  "language_info": {
   "codemirror_mode": {
    "name": "ipython",
    "version": 3
   },
   "file_extension": ".py",
   "mimetype": "text/x-python",
   "name": "python",
   "nbconvert_exporter": "python",
   "pygments_lexer": "ipython3",
   "version": "3.6.1"
  }
 },
 "nbformat": 4,
 "nbformat_minor": 2
}
